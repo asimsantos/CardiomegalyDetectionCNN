{
  "nbformat": 4,
  "nbformat_minor": 0,
  "metadata": {
    "colab": {
      "provenance": [],
      "mount_file_id": "11qot0uMwxqric9XVRklr3GZN60X8H0wg",
      "authorship_tag": "ABX9TyOEM+lPV1lfmjeLU+90t6lF",
      "include_colab_link": true
    },
    "kernelspec": {
      "name": "python3",
      "display_name": "Python 3"
    },
    "language_info": {
      "name": "python"
    }
  },
  "cells": [
    {
      "cell_type": "markdown",
      "metadata": {
        "id": "view-in-github",
        "colab_type": "text"
      },
      "source": [
        "<a href=\"https://colab.research.google.com/github/asimsantos/CardiomegalyDetectionCNN/blob/september4/batch_download_dataset.ipynb\" target=\"_parent\"><img src=\"https://colab.research.google.com/assets/colab-badge.svg\" alt=\"Open In Colab\"/></a>"
      ]
    },
    {
      "cell_type": "markdown",
      "source": [
        "# Mount GDrive"
      ],
      "metadata": {
        "id": "x-SSqvwdeBKs"
      }
    },
    {
      "cell_type": "code",
      "execution_count": 2,
      "metadata": {
        "colab": {
          "base_uri": "https://localhost:8080/"
        },
        "id": "cRWujETzHy2H",
        "outputId": "305a41c4-2dcd-4ac3-d81d-715717a32e3b"
      },
      "outputs": [
        {
          "output_type": "stream",
          "name": "stdout",
          "text": [
            "Mounted at /content/drive\n"
          ]
        }
      ],
      "source": [
        "from google.colab import drive\n",
        "drive.mount('/content/drive')"
      ]
    },
    {
      "cell_type": "markdown",
      "source": [
        "#  Download dataset from NIHCC to GDrive\n",
        "url -> https://nihcc.app.box.com/v/ChestXray-NIHCC"
      ],
      "metadata": {
        "id": "t4A9Vz3HeExK"
      }
    },
    {
      "cell_type": "code",
      "source": [
        "import os\n",
        "os.chdir('/content/drive/MyDrive/Image Processing and Pattern Recognition/Cardiomegaly/Dataset')\n"
      ],
      "metadata": {
        "id": "T-h_ODSAIYn1"
      },
      "execution_count": 3,
      "outputs": []
    },
    {
      "cell_type": "code",
      "source": [
        "# import urllib.request\n",
        "\n",
        "# links = [\n",
        "#     'https://nihcc.box.com/shared/static/vfk49d74nhbxq3nqjg0900w5nvkorp5c.gz',\n",
        "#     'https://nihcc.box.com/shared/static/i28rlmbvmfjbl8p2n3ril0pptcmcu9d1.gz',\n",
        "#     'https://nihcc.box.com/shared/static/f1t00wrtdk94satdfb9olcolqx20z2jp.gz',\n",
        "#     'https://nihcc.box.com/shared/static/0aowwzs5lhjrceb3qp67ahp0rd1l1etg.gz',\n",
        "#     'https://nihcc.box.com/shared/static/v5e3goj22zr6h8tzualxfsqlqaygfbsn.gz',\n",
        "#     'https://nihcc.box.com/shared/static/asi7ikud9jwnkrnkj99jnpfkjdes7l6l.gz',\n",
        "#     'https://nihcc.box.com/shared/static/jn1b4mw4n6lnh74ovmcjb8y48h8xj07n.gz',\n",
        "#     'https://nihcc.box.com/shared/static/tvpxmn7qyrgl0w8wfh9kqfjskv6nmm1j.gz',\n",
        "#     'https://nihcc.box.com/shared/static/upyy3ml7qdumlgk2rfcvlb9k6gvqq2pj.gz',\n",
        "#     'https://nihcc.box.com/shared/static/l6nilvfa9cg3s28tqv1qc1olm3gnz54p.gz',\n",
        "#     'https://nihcc.box.com/shared/static/hhq8fkdgvcari67vfhs7ppg2w6ni4jze.gz',\n",
        "#     'https://nihcc.box.com/shared/static/ioqwiy20ihqwyr8pf4c24eazhh281pbu.gz'\n",
        "# ]\n",
        "\n",
        "\n",
        "# for idx, link in enumerate(links):\n",
        "#     fn = 'images_%02d.tar.gz' % (idx+1)\n",
        "#     print(f'Downloading {fn}...')\n",
        "#     urllib.request.urlretrieve(link, fn)  # Download file into the Drive folder\n",
        "\n",
        "# print(\"Download complete.\")\n"
      ],
      "metadata": {
        "colab": {
          "base_uri": "https://localhost:8080/"
        },
        "id": "sjg38uvnIf7x",
        "outputId": "ef8e3fe7-b42d-425b-bca2-ed6427b85aee"
      },
      "execution_count": null,
      "outputs": [
        {
          "output_type": "stream",
          "name": "stdout",
          "text": [
            "Downloading images_01.tar.gz...\n",
            "Downloading images_02.tar.gz...\n",
            "Downloading images_03.tar.gz...\n",
            "Downloading images_04.tar.gz...\n",
            "Downloading images_05.tar.gz...\n",
            "Downloading images_06.tar.gz...\n",
            "Downloading images_07.tar.gz...\n",
            "Downloading images_08.tar.gz...\n",
            "Downloading images_09.tar.gz...\n",
            "Downloading images_10.tar.gz...\n",
            "Downloading images_11.tar.gz...\n",
            "Download complete.\n"
          ]
        }
      ]
    },
    {
      "cell_type": "markdown",
      "source": [
        "# Unzip .tar.gz files into GDrive\n"
      ],
      "metadata": {
        "id": "z9H5dZT6eUcL"
      }
    },
    {
      "cell_type": "code",
      "source": [
        "import tarfile\n",
        "\n",
        "# Path to the folder where your .tar.gz files are stored\n",
        "source_dir = '/content/drive/MyDrive/Image Processing and Pattern Recognition/Cardiomegaly/Dataset'\n",
        "\n",
        "# Path to the folder where you want to extract the images\n",
        "extract_dir = os.path.join(source_dir, 'Extracted Images')\n",
        "\n",
        "# Create the \"Extracted Images\" folder if it doesn't exist\n",
        "os.makedirs(extract_dir, exist_ok=True)\n",
        "\n",
        "# List of all .tar.gz files\n",
        "tar_files = [f for f in os.listdir(source_dir) if f.endswith('.tar.gz')]\n",
        "\n",
        "# Extract each .tar.gz file into the \"Extracted Images\" folder\n",
        "for tar_file in tar_files:\n",
        "    file_path = os.path.join(source_dir, tar_file)\n",
        "    print(f'Extracting {tar_file}...')\n",
        "    with tarfile.open(file_path, \"r:gz\") as tar:\n",
        "        tar.extractall(path=extract_dir)\n",
        "\n",
        "print(\"All files extracted successfully into 'Extracted Images' folder.\")\n"
      ],
      "metadata": {
        "colab": {
          "base_uri": "https://localhost:8080/"
        },
        "id": "EAoq05picn3s",
        "outputId": "3cfddd32-5c81-48b1-ede9-18698638e144"
      },
      "execution_count": 4,
      "outputs": [
        {
          "output_type": "stream",
          "name": "stdout",
          "text": [
            "Extracting images_02.tar.gz...\n",
            "Extracting images_01.tar.gz...\n",
            "Extracting images_03.tar.gz...\n",
            "Extracting images_04.tar.gz...\n",
            "Extracting images_05.tar.gz...\n",
            "Extracting images_06.tar.gz...\n",
            "Extracting images_07.tar.gz...\n",
            "Extracting images_08.tar.gz...\n",
            "Extracting images_09.tar.gz...\n",
            "Extracting images_10.tar.gz...\n",
            "Extracting images_11.tar.gz...\n",
            "All files extracted successfully into 'Extracted Images' folder.\n"
          ]
        }
      ]
    }
  ]
}