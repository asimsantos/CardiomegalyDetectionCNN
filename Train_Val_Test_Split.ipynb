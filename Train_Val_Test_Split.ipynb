{
  "nbformat": 4,
  "nbformat_minor": 0,
  "metadata": {
    "colab": {
      "provenance": [],
      "authorship_tag": "ABX9TyPcbUDmWhAehnABV9ZLKccC",
      "include_colab_link": true
    },
    "kernelspec": {
      "name": "python3",
      "display_name": "Python 3"
    },
    "language_info": {
      "name": "python"
    }
  },
  "cells": [
    {
      "cell_type": "markdown",
      "metadata": {
        "id": "view-in-github",
        "colab_type": "text"
      },
      "source": [
        "<a href=\"https://colab.research.google.com/github/asimsantos/CardiomegalyDetectionCNN/blob/september4/Train_Val_Test_Split.ipynb\" target=\"_parent\"><img src=\"https://colab.research.google.com/assets/colab-badge.svg\" alt=\"Open In Colab\"/></a>"
      ]
    },
    {
      "cell_type": "code",
      "execution_count": null,
      "metadata": {
        "colab": {
          "base_uri": "https://localhost:8080/"
        },
        "id": "GXv66x6lSrXQ",
        "outputId": "3423770e-6858-4343-ab67-541a779ada52"
      },
      "outputs": [
        {
          "output_type": "stream",
          "name": "stdout",
          "text": [
            "Mounted at /content/drive\n"
          ]
        }
      ],
      "source": [
        "from google.colab import drive\n",
        "drive.mount('/content/drive')"
      ]
    },
    {
      "cell_type": "code",
      "source": [
        "cd /content/drive/MyDrive/Image Processing and Pattern Recognition/Cardiomegaly/Dataset"
      ],
      "metadata": {
        "colab": {
          "base_uri": "https://localhost:8080/"
        },
        "id": "kw_ZQIy3SuHT",
        "outputId": "936b5dad-ed5e-4c12-b172-31c5d82c1dd5"
      },
      "execution_count": null,
      "outputs": [
        {
          "output_type": "stream",
          "name": "stdout",
          "text": [
            "/content/drive/MyDrive/Image Processing and Pattern Recognition/Cardiomegaly/Dataset\n"
          ]
        }
      ]
    },
    {
      "cell_type": "code",
      "source": [
        "import os\n",
        "import shutil\n",
        "from sklearn.model_selection import train_test_split\n",
        "\n",
        "true_dir = '/content/drive/MyDrive/Image Processing and Pattern Recognition/Cardiomegaly/Dataset/Extracted Images/CardiomegalyClass/True'\n",
        "false_dir = '/content/drive/MyDrive/Image Processing and Pattern Recognition/Cardiomegaly/Dataset/Extracted Images/CardiomegalyClass/False'\n",
        "\n",
        "train_dir = '/content/drive/MyDrive/Image Processing and Pattern Recognition/Cardiomegaly/Dataset/Split_Dataset/train'\n",
        "val_dir = '/content/drive/MyDrive/Image Processing and Pattern Recognition/Cardiomegaly/Dataset/Split_Dataset/val'\n",
        "test_dir = '/content/drive/MyDrive/Image Processing and Pattern Recognition/Cardiomegaly/Dataset/Split_Dataset/test'\n",
        "\n",
        "# Create destination directories if they don't exist\n",
        "for folder in [train_dir, val_dir, test_dir]:\n",
        "    os.makedirs(os.path.join(folder, 'True'), exist_ok=True)\n",
        "    os.makedirs(os.path.join(folder, 'False'), exist_ok=True)\n",
        "\n",
        "# Get list of image filenames for each class\n",
        "true_images = os.listdir(true_dir)\n",
        "false_images = os.listdir(false_dir)\n",
        "\n",
        "# Split the Cardiomegaly images ('True' class) into train, validation, and test sets\n",
        "true_train, true_temp = train_test_split(true_images, test_size=0.3, random_state=42) #70% training\n",
        "true_val, true_test = train_test_split(true_temp, test_size=0.3333, random_state=42)  # 20% validation, 10% test\n",
        "\n",
        "# Split the Normal images ('False' class) into train, validation, and test sets\n",
        "false_train, false_temp = train_test_split(false_images, test_size=0.3, random_state=42) # 70% training\n",
        "false_val, false_test = train_test_split(false_temp, test_size=0.3333, random_state=42)  # 20% validation,10% test\n",
        "\n",
        "# Function to copy files to the respective folders\n",
        "def copy_files(file_list, source_dir, target_dir, class_name):\n",
        "    count = 0\n",
        "    for file_name in file_list:\n",
        "        src_path = os.path.join(source_dir, file_name)\n",
        "        dest_path = os.path.join(target_dir, class_name, file_name)\n",
        "        shutil.copy(src_path, dest_path)\n",
        "        count += 1\n",
        "    return count\n",
        "\n",
        "# Copy 'True' class images and count the number of files copied\n",
        "print(\"Copying 'True' (Cardiomegaly) class images...\")\n",
        "true_train_count = copy_files(true_train, true_dir, train_dir, 'True')\n",
        "true_val_count = copy_files(true_val, true_dir, val_dir, 'True')\n",
        "true_test_count = copy_files(true_test, true_dir, test_dir, 'True')\n",
        "\n",
        "# Copy 'False' class images and count the number of files copied\n",
        "print(\"Copying 'False' (Normal) class images...\")\n",
        "false_train_count = copy_files(false_train, false_dir, train_dir, 'False')\n",
        "false_val_count = copy_files(false_val, false_dir, val_dir, 'False')\n",
        "false_test_count = copy_files(false_test, false_dir, test_dir, 'False')\n",
        "\n",
        "# Output the counts\n",
        "print(f\"True class - Training: {true_train_count}, Validation: {true_val_count}, Test: {true_test_count}\")\n",
        "print(f\"False class - Training: {false_train_count}, Validation: {false_val_count}, Test: {false_test_count}\")\n",
        "\n",
        "print(\"Dataset split into training, validation, and test sets.\")\n"
      ],
      "metadata": {
        "colab": {
          "base_uri": "https://localhost:8080/"
        },
        "id": "uWmqHoILXdGz",
        "outputId": "d59495b6-f495-4920-dde6-c10e0bb550e0"
      },
      "execution_count": null,
      "outputs": [
        {
          "output_type": "stream",
          "name": "stdout",
          "text": [
            "Copying 'True' (Cardiomegaly) class images...\n",
            "Copying 'False' (Normal) class images...\n",
            "True class - Training: 1346, Validation: 385, Test: 193\n",
            "False class - Training: 2005, Validation: 573, Test: 287\n",
            "Dataset split into training, validation, and test sets.\n"
          ]
        }
      ]
    }
  ]
}