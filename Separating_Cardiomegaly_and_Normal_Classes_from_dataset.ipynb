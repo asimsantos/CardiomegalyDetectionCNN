{
  "nbformat": 4,
  "nbformat_minor": 0,
  "metadata": {
    "colab": {
      "provenance": [],
      "authorship_tag": "ABX9TyOuimB8qGvMW5yhGHdVfryx",
      "include_colab_link": true
    },
    "kernelspec": {
      "name": "python3",
      "display_name": "Python 3"
    },
    "language_info": {
      "name": "python"
    }
  },
  "cells": [
    {
      "cell_type": "markdown",
      "metadata": {
        "id": "view-in-github",
        "colab_type": "text"
      },
      "source": [
        "<a href=\"https://colab.research.google.com/github/asimsantos/CardiomegalyDetectionCNN/blob/september4/Separating_Cardiomegaly_and_Normal_Classes_from_dataset.ipynb\" target=\"_parent\"><img src=\"https://colab.research.google.com/assets/colab-badge.svg\" alt=\"Open In Colab\"/></a>"
      ]
    },
    {
      "cell_type": "code",
      "source": [
        "from google.colab import drive\n",
        "drive.mount('/content/drive')"
      ],
      "metadata": {
        "colab": {
          "base_uri": "https://localhost:8080/"
        },
        "id": "mao5w5O-wO56",
        "outputId": "5a969122-ac73-47de-c7b4-809fc1b118a6"
      },
      "execution_count": 1,
      "outputs": [
        {
          "output_type": "stream",
          "name": "stdout",
          "text": [
            "Drive already mounted at /content/drive; to attempt to forcibly remount, call drive.mount(\"/content/drive\", force_remount=True).\n"
          ]
        }
      ]
    },
    {
      "cell_type": "code",
      "source": [
        "cd /content/drive/MyDrive/Image Processing and Pattern Recognition/Cardiomegaly/Dataset"
      ],
      "metadata": {
        "colab": {
          "base_uri": "https://localhost:8080/"
        },
        "id": "DP30SDkJwUA_",
        "outputId": "a9761a98-3c4b-4d5c-981d-5995b1d197d2"
      },
      "execution_count": 2,
      "outputs": [
        {
          "output_type": "stream",
          "name": "stdout",
          "text": [
            "/content/drive/MyDrive/Image Processing and Pattern Recognition/Cardiomegaly/Dataset\n"
          ]
        }
      ]
    },
    {
      "cell_type": "markdown",
      "source": [
        "# Dataset Separation for Cardiomegaly(2776) and Normal(3000)"
      ],
      "metadata": {
        "id": "lkKQ-U_av8PL"
      }
    },
    {
      "cell_type": "code",
      "execution_count": 7,
      "metadata": {
        "colab": {
          "base_uri": "https://localhost:8080/"
        },
        "id": "OJyOQISGce8D",
        "outputId": "87cd8b24-8069-40fc-d8f5-fd104cb50adf"
      },
      "outputs": [
        {
          "output_type": "stream",
          "name": "stdout",
          "text": [
            "Copying Cardiomegaly images...\n",
            "Copying 1500 Normal images...\n",
            "Images have been successfully separated to the 'Cardiomegaly/True' (2776) and 'Cardiomegaly/False' (1500) folders.\n"
          ]
        }
      ],
      "source": [
        "import pandas as pd\n",
        "import os\n",
        "import shutil\n",
        "import random\n",
        "\n",
        "# Load the CSV files (update these paths to match your actual file locations)\n",
        "train_labels = pd.read_csv('/content/drive/MyDrive/Image Processing and Pattern Recognition/Cardiomegaly/Dataset/Labels/miccai2023_nih-cxr-lt_labels_train.csv')\n",
        "val_labels = pd.read_csv('/content/drive/MyDrive/Image Processing and Pattern Recognition/Cardiomegaly/Dataset/Labels/miccai2023_nih-cxr-lt_labels_val.csv')\n",
        "test_labels = pd.read_csv('/content/drive/MyDrive/Image Processing and Pattern Recognition/Cardiomegaly/Dataset/Labels/miccai2023_nih-cxr-lt_labels_test.csv')\n",
        "\n",
        "# Combine the datasets into one DataFrame\n",
        "all_labels = pd.concat([train_labels, val_labels, test_labels])\n",
        "\n",
        "# Filter Cardiomegaly images (where 'Cardiomegaly' column is 1)\n",
        "cardiomegaly_df = all_labels[all_labels['Cardiomegaly'] == 1]\n",
        "\n",
        "# Filter Normal images (where 'No Finding' column is 1)\n",
        "normal_df = all_labels[all_labels['No Finding'] == 1]\n",
        "\n",
        "# Randomly select 1500 Normal images\n",
        "normal_sample_df = normal_df.sample(n=3000, random_state=42)\n",
        "\n",
        "# Paths\n",
        "source_dir = '/content/drive/MyDrive/Image Processing and Pattern Recognition/Cardiomegaly/Dataset/Extracted Images/images'\n",
        "cardiomegaly_target_dir = '/content/drive/MyDrive/Image Processing and Pattern Recognition/Cardiomegaly/Dataset/Extracted Images/CardiomegalyClass/True'\n",
        "normal_target_dir = '/content/drive/MyDrive/Image Processing and Pattern Recognition/Cardiomegaly/Dataset/Extracted Images/CardiomegalyClass/False'\n",
        "\n",
        "# Create the target directories if they don't exist\n",
        "os.makedirs(cardiomegaly_target_dir, exist_ok=True)\n",
        "os.makedirs(normal_target_dir, exist_ok=True)\n",
        "\n",
        "# Copy Cardiomegaly images\n",
        "true_images = 0\n",
        "print(\"Copying Cardiomegaly images...\")\n",
        "for img_name in cardiomegaly_df['id']:\n",
        "    src_path = os.path.join(source_dir, img_name)\n",
        "    dest_path = os.path.join(cardiomegaly_target_dir, img_name)\n",
        "    true_images += 1\n",
        "    if os.path.exists(src_path):\n",
        "        shutil.copy(src_path, dest_path)\n",
        "\n",
        "# Copy 1500 Normal images\n",
        "false_images = 0\n",
        "print(\"Copying 1500 Normal images...\")\n",
        "for img_name in normal_sample_df['id']:\n",
        "    src_path = os.path.join(source_dir, img_name)\n",
        "    dest_path = os.path.join(normal_target_dir, img_name)\n",
        "    false_images += 1\n",
        "    if os.path.exists(src_path):\n",
        "        shutil.copy(src_path, dest_path)\n",
        "\n",
        "print(f\"Images have been successfully separated to the 'Cardiomegaly/True' ({true_images}) and 'Cardiomegaly/False' ({false_images}) folders.\")\n"
      ]
    },
    {
      "cell_type": "code",
      "source": [
        "\n"
      ],
      "metadata": {
        "colab": {
          "base_uri": "https://localhost:8080/"
        },
        "id": "U5zB7mU7NL-u",
        "outputId": "0ddc06ef-1bc1-49f6-8a93-b0ece9171d66"
      },
      "execution_count": 3,
      "outputs": [
        {
          "output_type": "stream",
          "name": "stdout",
          "text": [
            "Copying 1500 Normal images...\n",
            "Images have been successfully separated to the 'Cardiomegaly/True' () and 'Cardiomegaly/False' (3000) folders.\n"
          ]
        }
      ]
    }
  ]
}